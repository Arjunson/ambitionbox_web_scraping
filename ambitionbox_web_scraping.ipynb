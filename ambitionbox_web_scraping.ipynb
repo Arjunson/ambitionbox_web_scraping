{
 "cells": [
  {
   "cell_type": "code",
   "execution_count": 1,
   "id": "265b4178-b0f0-4468-9840-09d6ae2bcf9c",
   "metadata": {},
   "outputs": [],
   "source": [
    "import pandas as pd\n",
    "import requests\n",
    "from bs4 import BeautifulSoup\n",
    "import numpy as np"
   ]
  },
  {
   "cell_type": "code",
   "execution_count": 2,
   "id": "cd21f600-2045-46fd-a6b8-8eeee1f8271b",
   "metadata": {},
   "outputs": [
    {
     "name": "stdout",
     "output_type": "stream",
     "text": [
      "(300, 7)\n"
     ]
    }
   ],
   "source": [
    "final = pd.DataFrame()\n",
    "for j in range(1,11):\n",
    "    url = 'https://www.ambitionbox.com/list-of-companies?page={}'.format(j)\n",
    "    headers={'User-Agent':'Mozilla/5.0 (Windows NT 6.3; Win 64 ; x64) Apple WeKit /537.36(KHTML , like Gecko) Chrome/80.0.3987.162 Safari/537.36'} \n",
    "    webpage = requests.get(url,headers=headers).text\n",
    "\n",
    "    soup = BeautifulSoup(webpage, 'lxml')\n",
    "    soup.prettify()\n",
    "    company = soup.find_all('div', class_='company-content-wrapper')\n",
    "\n",
    "    name = []\n",
    "    rating = []\n",
    "    review_count = []\n",
    "    ctype = []\n",
    "    hq = []\n",
    "    age = []\n",
    "    employee = []\n",
    "\n",
    "    for i in company:\n",
    "        try:\n",
    "            name.append(i.find('h2').text.strip())\n",
    "        except:\n",
    "           name.append(np.nan)\n",
    "\n",
    "        try:\n",
    "           rating.append(i.find('p',class_='rating').text.strip())\n",
    "        except:\n",
    "           rating.append(np.nan)\n",
    "       \n",
    "        try:\n",
    "\n",
    "          review_count.append(i.find('a' , class_='review-count').text.strip())\n",
    "        except:\n",
    "          review_count.append(np.nan)\n",
    "\n",
    "        try:\n",
    "\n",
    "          ctype.append(i.find_all('p',class_='infoEntity')[0].text.strip())\n",
    "        except:\n",
    "          ctype.append(np.nan)\n",
    "        try:\n",
    "\n",
    "          hq.append(i.find_all('p',class_='infoEntity')[1].text.strip())\n",
    "        except:\n",
    "          hq.append(np.nan)\n",
    "        \n",
    "        try:\n",
    "\n",
    "          age.append(i.find_all('p',class_='infoEntity')[2].text.strip())\n",
    "        except:\n",
    "          age.append(np.nan)\n",
    "        try:\n",
    "          employee.append(i.find_all('p',class_='infoEntity')[3].text.strip())\n",
    "        except:\n",
    "          employee.append(np.nan)\n",
    "\n",
    "    df = pd.DataFrame({'Company Name':name, 'Rating':rating, 'Reviews':review_count, 'Company Type':ctype, 'HQ':hq, 'Company Age':age, 'Employee Count':employee})\n",
    "    final=final.append(df,ignore_index=True)\n",
    "    \n",
    "print(final.shape)\n",
    "\n",
    "final.to_csv(\"company_data.csv\")"
   ]
  },
  {
   "cell_type": "code",
   "execution_count": null,
   "id": "f8a67e95-881a-47cc-a9bc-7dd31adeca83",
   "metadata": {},
   "outputs": [],
   "source": []
  },
  {
   "cell_type": "code",
   "execution_count": null,
   "id": "e0ae59e4-a00e-400d-aaf3-4808d389cc50",
   "metadata": {},
   "outputs": [],
   "source": []
  },
  {
   "cell_type": "code",
   "execution_count": null,
   "id": "fa1a82c7-d14f-44cc-93a1-5a8d5d282f5b",
   "metadata": {},
   "outputs": [],
   "source": []
  }
 ],
 "metadata": {
  "kernelspec": {
   "display_name": "Python 3 (ipykernel)",
   "language": "python",
   "name": "python3"
  },
  "language_info": {
   "codemirror_mode": {
    "name": "ipython",
    "version": 3
   },
   "file_extension": ".py",
   "mimetype": "text/x-python",
   "name": "python",
   "nbconvert_exporter": "python",
   "pygments_lexer": "ipython3",
   "version": "3.7.3"
  }
 },
 "nbformat": 4,
 "nbformat_minor": 5
}
